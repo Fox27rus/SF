{
 "cells": [
  {
   "cell_type": "code",
   "execution_count": 714,
   "id": "12070700",
   "metadata": {},
   "outputs": [],
   "source": [
    "import pandas as pd\n",
    "import matplotlib.pyplot as plt\n",
    "import seaborn as sns\n",
    "from itertools import combinations\n",
    "from scipy.stats import ttest_ind"
   ]
  },
  {
   "cell_type": "code",
   "execution_count": 715,
   "id": "500494a6",
   "metadata": {},
   "outputs": [],
   "source": [
    "pd.set_option('display.max_rows', 50) # показывать больше строк\n",
    "pd.set_option('display.max_columns', 50) # показывать больше колонок\n",
    "stud_math = pd.read_csv('C:/Users/PC/Downloads/stud_math.csv')"
   ]
  },
  {
   "cell_type": "code",
   "execution_count": 716,
   "id": "c4d55e90",
   "metadata": {},
   "outputs": [],
   "source": [
    "# Функция для получения уникальных значений\n",
    "def get_unique_and_value_counts(df, col):\n",
    "    print(col)\n",
    "    print(df[col].unique())\n",
    "    print(f'Количество уникальных значений: {df[col].nunique()}')\n",
    "    print(df[col].value_counts())"
   ]
  },
  {
   "cell_type": "code",
   "execution_count": 717,
   "id": "d308c9b5",
   "metadata": {},
   "outputs": [],
   "source": [
    "# Функция постройки гистограммы\n",
    "def hist_describe(df, col):\n",
    "    print(col)\n",
    "    print(df[col].hist())\n",
    "    print(df[col].describe())"
   ]
  },
  {
   "cell_type": "code",
   "execution_count": 718,
   "id": "118965c6",
   "metadata": {},
   "outputs": [],
   "source": [
    "# Функция вычисления медианного значения\n",
    "def score_median(df, col):\n",
    "    for i in df[col].unique():\n",
    "        stud_col_meadian = df[(df[col] == i)].score.median()\n",
    "        stud_col_meadian = df[(df[col] == i)].score.median()\n",
    "        print(f'Медиана {i}: {stud_col_meadian}')"
   ]
  },
  {
   "cell_type": "code",
   "execution_count": 719,
   "id": "1744fd50",
   "metadata": {},
   "outputs": [],
   "source": [
    "# Функция рисования boxplot\n",
    "def get_boxplot(column):\n",
    "    fig, ax = plt.subplots(figsize=(14, 4))\n",
    "    sns.boxplot(x=column, y='score', \n",
    "                data=stud_math.loc[stud_math.loc[:, column].isin(stud_math.loc[:, column].value_counts().index)],\n",
    "               ax=ax)\n",
    "    plt.xticks(rotation=45)\n",
    "    ax.set_title('Boxplot for ' + column)\n",
    "    plt.show()"
   ]
  },
  {
   "cell_type": "code",
   "execution_count": 720,
   "id": "9c18effa",
   "metadata": {},
   "outputs": [],
   "source": [
    "# Функция поиска статистической ошибки\n",
    "def get_stat_dif(column):\n",
    "    cols = stud_math.loc[:, column].value_counts().index\n",
    "    combinations_all = list(combinations(cols, 2))\n",
    "    for comb in combinations_all:\n",
    "        if ttest_ind(stud_math.loc[stud_math.loc[:, column] == comb[0], 'score'],\n",
    "                        stud_math.loc[stud_math.loc[:, column] == comb[1], 'score'], nan_policy='omit').pvalue \\\n",
    "            <= 0.075/len(combinations_all):  # Учли поправку Бонферони\n",
    "            print('Найдены статистически значимые различия для колонки', column)\n",
    "            break"
   ]
  },
  {
   "cell_type": "code",
   "execution_count": 721,
   "id": "a2078ecf",
   "metadata": {},
   "outputs": [],
   "source": [
    "# Функция вычисления 25,75 процентиля, межквартильного расстояния и границы выбросов\n",
    "def emissions(df, col):\n",
    "    IQR = df[col].quantile(0.75) - df[col].quantile(0.25)\n",
    "    perc25 = df[col].quantile(0.25)\n",
    "    perc75 = df[col].quantile(0.75)\n",
    "    print(f'{col}:', f'25-й перцентиль: {perc25},', f'75-й перцентиль: {perc75}', \n",
    "                f\"IQR: {IQR}\", \"Границы выбросов: [{f}, {l}].\".format(f=perc25 - 1.5*IQR, l=perc75 + 1.5*IQR))"
   ]
  },
  {
   "cell_type": "code",
   "execution_count": 722,
   "id": "3f520f71",
   "metadata": {},
   "outputs": [],
   "source": [
    "#def get_unique_and_value_counts(df):\n",
    "    #for col in list(df.columns):\n",
    "        #print(col)\n",
    "        #print(df[col].unique())\n",
    "        #print(df[col].value_counts())\n",
    "        #print()"
   ]
  },
  {
   "cell_type": "code",
   "execution_count": 723,
   "id": "889aa2d4",
   "metadata": {
    "scrolled": true
   },
   "outputs": [
    {
     "data": {
      "text/html": [
       "<div>\n",
       "<style scoped>\n",
       "    .dataframe tbody tr th:only-of-type {\n",
       "        vertical-align: middle;\n",
       "    }\n",
       "\n",
       "    .dataframe tbody tr th {\n",
       "        vertical-align: top;\n",
       "    }\n",
       "\n",
       "    .dataframe thead th {\n",
       "        text-align: right;\n",
       "    }\n",
       "</style>\n",
       "<table border=\"1\" class=\"dataframe\">\n",
       "  <thead>\n",
       "    <tr style=\"text-align: right;\">\n",
       "      <th></th>\n",
       "      <th>school</th>\n",
       "      <th>sex</th>\n",
       "      <th>age</th>\n",
       "      <th>address</th>\n",
       "      <th>famsize</th>\n",
       "      <th>Pstatus</th>\n",
       "      <th>Medu</th>\n",
       "      <th>Fedu</th>\n",
       "      <th>Mjob</th>\n",
       "      <th>Fjob</th>\n",
       "      <th>reason</th>\n",
       "      <th>guardian</th>\n",
       "      <th>traveltime</th>\n",
       "      <th>studytime</th>\n",
       "      <th>failures</th>\n",
       "      <th>schoolsup</th>\n",
       "      <th>famsup</th>\n",
       "      <th>paid</th>\n",
       "      <th>activities</th>\n",
       "      <th>nursery</th>\n",
       "      <th>studytime, granular</th>\n",
       "      <th>higher</th>\n",
       "      <th>internet</th>\n",
       "      <th>romantic</th>\n",
       "      <th>famrel</th>\n",
       "      <th>freetime</th>\n",
       "      <th>goout</th>\n",
       "      <th>health</th>\n",
       "      <th>absences</th>\n",
       "      <th>score</th>\n",
       "    </tr>\n",
       "  </thead>\n",
       "  <tbody>\n",
       "    <tr>\n",
       "      <th>0</th>\n",
       "      <td>GP</td>\n",
       "      <td>F</td>\n",
       "      <td>18</td>\n",
       "      <td>U</td>\n",
       "      <td>NaN</td>\n",
       "      <td>A</td>\n",
       "      <td>4.0</td>\n",
       "      <td>4.0</td>\n",
       "      <td>at_home</td>\n",
       "      <td>teacher</td>\n",
       "      <td>course</td>\n",
       "      <td>mother</td>\n",
       "      <td>2.0</td>\n",
       "      <td>2.0</td>\n",
       "      <td>0.0</td>\n",
       "      <td>yes</td>\n",
       "      <td>no</td>\n",
       "      <td>no</td>\n",
       "      <td>no</td>\n",
       "      <td>yes</td>\n",
       "      <td>-6.0</td>\n",
       "      <td>yes</td>\n",
       "      <td>NaN</td>\n",
       "      <td>no</td>\n",
       "      <td>4.0</td>\n",
       "      <td>3.0</td>\n",
       "      <td>4.0</td>\n",
       "      <td>3.0</td>\n",
       "      <td>6.0</td>\n",
       "      <td>30.0</td>\n",
       "    </tr>\n",
       "    <tr>\n",
       "      <th>1</th>\n",
       "      <td>GP</td>\n",
       "      <td>F</td>\n",
       "      <td>17</td>\n",
       "      <td>U</td>\n",
       "      <td>GT3</td>\n",
       "      <td>NaN</td>\n",
       "      <td>1.0</td>\n",
       "      <td>1.0</td>\n",
       "      <td>at_home</td>\n",
       "      <td>other</td>\n",
       "      <td>course</td>\n",
       "      <td>father</td>\n",
       "      <td>1.0</td>\n",
       "      <td>2.0</td>\n",
       "      <td>0.0</td>\n",
       "      <td>no</td>\n",
       "      <td>yes</td>\n",
       "      <td>no</td>\n",
       "      <td>no</td>\n",
       "      <td>no</td>\n",
       "      <td>-6.0</td>\n",
       "      <td>yes</td>\n",
       "      <td>yes</td>\n",
       "      <td>no</td>\n",
       "      <td>5.0</td>\n",
       "      <td>3.0</td>\n",
       "      <td>3.0</td>\n",
       "      <td>3.0</td>\n",
       "      <td>4.0</td>\n",
       "      <td>30.0</td>\n",
       "    </tr>\n",
       "    <tr>\n",
       "      <th>2</th>\n",
       "      <td>GP</td>\n",
       "      <td>F</td>\n",
       "      <td>15</td>\n",
       "      <td>U</td>\n",
       "      <td>LE3</td>\n",
       "      <td>T</td>\n",
       "      <td>1.0</td>\n",
       "      <td>1.0</td>\n",
       "      <td>at_home</td>\n",
       "      <td>other</td>\n",
       "      <td>other</td>\n",
       "      <td>mother</td>\n",
       "      <td>1.0</td>\n",
       "      <td>2.0</td>\n",
       "      <td>3.0</td>\n",
       "      <td>yes</td>\n",
       "      <td>no</td>\n",
       "      <td>NaN</td>\n",
       "      <td>no</td>\n",
       "      <td>yes</td>\n",
       "      <td>-6.0</td>\n",
       "      <td>yes</td>\n",
       "      <td>yes</td>\n",
       "      <td>NaN</td>\n",
       "      <td>4.0</td>\n",
       "      <td>3.0</td>\n",
       "      <td>2.0</td>\n",
       "      <td>3.0</td>\n",
       "      <td>10.0</td>\n",
       "      <td>50.0</td>\n",
       "    </tr>\n",
       "    <tr>\n",
       "      <th>3</th>\n",
       "      <td>GP</td>\n",
       "      <td>F</td>\n",
       "      <td>15</td>\n",
       "      <td>U</td>\n",
       "      <td>GT3</td>\n",
       "      <td>T</td>\n",
       "      <td>4.0</td>\n",
       "      <td>2.0</td>\n",
       "      <td>health</td>\n",
       "      <td>NaN</td>\n",
       "      <td>home</td>\n",
       "      <td>mother</td>\n",
       "      <td>1.0</td>\n",
       "      <td>3.0</td>\n",
       "      <td>0.0</td>\n",
       "      <td>no</td>\n",
       "      <td>yes</td>\n",
       "      <td>yes</td>\n",
       "      <td>yes</td>\n",
       "      <td>yes</td>\n",
       "      <td>-9.0</td>\n",
       "      <td>yes</td>\n",
       "      <td>yes</td>\n",
       "      <td>yes</td>\n",
       "      <td>3.0</td>\n",
       "      <td>2.0</td>\n",
       "      <td>2.0</td>\n",
       "      <td>5.0</td>\n",
       "      <td>2.0</td>\n",
       "      <td>75.0</td>\n",
       "    </tr>\n",
       "    <tr>\n",
       "      <th>4</th>\n",
       "      <td>GP</td>\n",
       "      <td>F</td>\n",
       "      <td>16</td>\n",
       "      <td>U</td>\n",
       "      <td>GT3</td>\n",
       "      <td>T</td>\n",
       "      <td>3.0</td>\n",
       "      <td>3.0</td>\n",
       "      <td>other</td>\n",
       "      <td>other</td>\n",
       "      <td>home</td>\n",
       "      <td>father</td>\n",
       "      <td>1.0</td>\n",
       "      <td>2.0</td>\n",
       "      <td>0.0</td>\n",
       "      <td>no</td>\n",
       "      <td>yes</td>\n",
       "      <td>yes</td>\n",
       "      <td>no</td>\n",
       "      <td>yes</td>\n",
       "      <td>-6.0</td>\n",
       "      <td>yes</td>\n",
       "      <td>no</td>\n",
       "      <td>no</td>\n",
       "      <td>4.0</td>\n",
       "      <td>3.0</td>\n",
       "      <td>2.0</td>\n",
       "      <td>5.0</td>\n",
       "      <td>4.0</td>\n",
       "      <td>50.0</td>\n",
       "    </tr>\n",
       "  </tbody>\n",
       "</table>\n",
       "</div>"
      ],
      "text/plain": [
       "  school sex  age address famsize Pstatus  Medu  Fedu     Mjob     Fjob  \\\n",
       "0     GP   F   18       U     NaN       A   4.0   4.0  at_home  teacher   \n",
       "1     GP   F   17       U     GT3     NaN   1.0   1.0  at_home    other   \n",
       "2     GP   F   15       U     LE3       T   1.0   1.0  at_home    other   \n",
       "3     GP   F   15       U     GT3       T   4.0   2.0   health      NaN   \n",
       "4     GP   F   16       U     GT3       T   3.0   3.0    other    other   \n",
       "\n",
       "   reason guardian  traveltime  studytime  failures schoolsup famsup paid  \\\n",
       "0  course   mother         2.0        2.0       0.0       yes     no   no   \n",
       "1  course   father         1.0        2.0       0.0        no    yes   no   \n",
       "2   other   mother         1.0        2.0       3.0       yes     no  NaN   \n",
       "3    home   mother         1.0        3.0       0.0        no    yes  yes   \n",
       "4    home   father         1.0        2.0       0.0        no    yes  yes   \n",
       "\n",
       "  activities nursery  studytime, granular higher internet romantic  famrel  \\\n",
       "0         no     yes                 -6.0    yes      NaN       no     4.0   \n",
       "1         no      no                 -6.0    yes      yes       no     5.0   \n",
       "2         no     yes                 -6.0    yes      yes      NaN     4.0   \n",
       "3        yes     yes                 -9.0    yes      yes      yes     3.0   \n",
       "4         no     yes                 -6.0    yes       no       no     4.0   \n",
       "\n",
       "   freetime  goout  health  absences  score  \n",
       "0       3.0    4.0     3.0       6.0   30.0  \n",
       "1       3.0    3.0     3.0       4.0   30.0  \n",
       "2       3.0    2.0     3.0      10.0   50.0  \n",
       "3       2.0    2.0     5.0       2.0   75.0  \n",
       "4       3.0    2.0     5.0       4.0   50.0  "
      ]
     },
     "metadata": {},
     "output_type": "display_data"
    },
    {
     "name": "stdout",
     "output_type": "stream",
     "text": [
      "<class 'pandas.core.frame.DataFrame'>\n",
      "RangeIndex: 395 entries, 0 to 394\n",
      "Data columns (total 30 columns):\n",
      " #   Column               Non-Null Count  Dtype  \n",
      "---  ------               --------------  -----  \n",
      " 0   school               395 non-null    object \n",
      " 1   sex                  395 non-null    object \n",
      " 2   age                  395 non-null    int64  \n",
      " 3   address              378 non-null    object \n",
      " 4   famsize              368 non-null    object \n",
      " 5   Pstatus              350 non-null    object \n",
      " 6   Medu                 392 non-null    float64\n",
      " 7   Fedu                 371 non-null    float64\n",
      " 8   Mjob                 376 non-null    object \n",
      " 9   Fjob                 359 non-null    object \n",
      " 10  reason               378 non-null    object \n",
      " 11  guardian             364 non-null    object \n",
      " 12  traveltime           367 non-null    float64\n",
      " 13  studytime            388 non-null    float64\n",
      " 14  failures             373 non-null    float64\n",
      " 15  schoolsup            386 non-null    object \n",
      " 16  famsup               356 non-null    object \n",
      " 17  paid                 355 non-null    object \n",
      " 18  activities           381 non-null    object \n",
      " 19  nursery              379 non-null    object \n",
      " 20  studytime, granular  388 non-null    float64\n",
      " 21  higher               375 non-null    object \n",
      " 22  internet             361 non-null    object \n",
      " 23  romantic             364 non-null    object \n",
      " 24  famrel               368 non-null    float64\n",
      " 25  freetime             384 non-null    float64\n",
      " 26  goout                387 non-null    float64\n",
      " 27  health               380 non-null    float64\n",
      " 28  absences             383 non-null    float64\n",
      " 29  score                389 non-null    float64\n",
      "dtypes: float64(12), int64(1), object(17)\n",
      "memory usage: 92.7+ KB\n"
     ]
    }
   ],
   "source": [
    "display(stud_math.head(5))\n",
    "stud_math.info()"
   ]
  },
  {
   "cell_type": "code",
   "execution_count": 724,
   "id": "99d1276b",
   "metadata": {
    "scrolled": false
   },
   "outputs": [
    {
     "data": {
      "text/html": [
       "<div>\n",
       "<style scoped>\n",
       "    .dataframe tbody tr th:only-of-type {\n",
       "        vertical-align: middle;\n",
       "    }\n",
       "\n",
       "    .dataframe tbody tr th {\n",
       "        vertical-align: top;\n",
       "    }\n",
       "\n",
       "    .dataframe thead th {\n",
       "        text-align: right;\n",
       "    }\n",
       "</style>\n",
       "<table border=\"1\" class=\"dataframe\">\n",
       "  <thead>\n",
       "    <tr style=\"text-align: right;\">\n",
       "      <th></th>\n",
       "      <th>0</th>\n",
       "    </tr>\n",
       "  </thead>\n",
       "  <tbody>\n",
       "    <tr>\n",
       "      <th>school</th>\n",
       "      <td>0.000000</td>\n",
       "    </tr>\n",
       "    <tr>\n",
       "      <th>sex</th>\n",
       "      <td>0.000000</td>\n",
       "    </tr>\n",
       "    <tr>\n",
       "      <th>age</th>\n",
       "      <td>0.000000</td>\n",
       "    </tr>\n",
       "    <tr>\n",
       "      <th>address</th>\n",
       "      <td>4.303797</td>\n",
       "    </tr>\n",
       "    <tr>\n",
       "      <th>famsize</th>\n",
       "      <td>6.835443</td>\n",
       "    </tr>\n",
       "    <tr>\n",
       "      <th>Pstatus</th>\n",
       "      <td>11.392405</td>\n",
       "    </tr>\n",
       "    <tr>\n",
       "      <th>Medu</th>\n",
       "      <td>0.759494</td>\n",
       "    </tr>\n",
       "    <tr>\n",
       "      <th>Fedu</th>\n",
       "      <td>6.075949</td>\n",
       "    </tr>\n",
       "    <tr>\n",
       "      <th>Mjob</th>\n",
       "      <td>4.810127</td>\n",
       "    </tr>\n",
       "    <tr>\n",
       "      <th>Fjob</th>\n",
       "      <td>9.113924</td>\n",
       "    </tr>\n",
       "    <tr>\n",
       "      <th>reason</th>\n",
       "      <td>4.303797</td>\n",
       "    </tr>\n",
       "    <tr>\n",
       "      <th>guardian</th>\n",
       "      <td>7.848101</td>\n",
       "    </tr>\n",
       "    <tr>\n",
       "      <th>traveltime</th>\n",
       "      <td>7.088608</td>\n",
       "    </tr>\n",
       "    <tr>\n",
       "      <th>studytime</th>\n",
       "      <td>1.772152</td>\n",
       "    </tr>\n",
       "    <tr>\n",
       "      <th>failures</th>\n",
       "      <td>5.569620</td>\n",
       "    </tr>\n",
       "    <tr>\n",
       "      <th>schoolsup</th>\n",
       "      <td>2.278481</td>\n",
       "    </tr>\n",
       "    <tr>\n",
       "      <th>famsup</th>\n",
       "      <td>9.873418</td>\n",
       "    </tr>\n",
       "    <tr>\n",
       "      <th>paid</th>\n",
       "      <td>10.126582</td>\n",
       "    </tr>\n",
       "    <tr>\n",
       "      <th>activities</th>\n",
       "      <td>3.544304</td>\n",
       "    </tr>\n",
       "    <tr>\n",
       "      <th>nursery</th>\n",
       "      <td>4.050633</td>\n",
       "    </tr>\n",
       "    <tr>\n",
       "      <th>studytime, granular</th>\n",
       "      <td>1.772152</td>\n",
       "    </tr>\n",
       "    <tr>\n",
       "      <th>higher</th>\n",
       "      <td>5.063291</td>\n",
       "    </tr>\n",
       "    <tr>\n",
       "      <th>internet</th>\n",
       "      <td>8.607595</td>\n",
       "    </tr>\n",
       "    <tr>\n",
       "      <th>romantic</th>\n",
       "      <td>7.848101</td>\n",
       "    </tr>\n",
       "    <tr>\n",
       "      <th>famrel</th>\n",
       "      <td>6.835443</td>\n",
       "    </tr>\n",
       "    <tr>\n",
       "      <th>freetime</th>\n",
       "      <td>2.784810</td>\n",
       "    </tr>\n",
       "    <tr>\n",
       "      <th>goout</th>\n",
       "      <td>2.025316</td>\n",
       "    </tr>\n",
       "    <tr>\n",
       "      <th>health</th>\n",
       "      <td>3.797468</td>\n",
       "    </tr>\n",
       "    <tr>\n",
       "      <th>absences</th>\n",
       "      <td>3.037975</td>\n",
       "    </tr>\n",
       "    <tr>\n",
       "      <th>score</th>\n",
       "      <td>1.518987</td>\n",
       "    </tr>\n",
       "  </tbody>\n",
       "</table>\n",
       "</div>"
      ],
      "text/plain": [
       "                             0\n",
       "school                0.000000\n",
       "sex                   0.000000\n",
       "age                   0.000000\n",
       "address               4.303797\n",
       "famsize               6.835443\n",
       "Pstatus              11.392405\n",
       "Medu                  0.759494\n",
       "Fedu                  6.075949\n",
       "Mjob                  4.810127\n",
       "Fjob                  9.113924\n",
       "reason                4.303797\n",
       "guardian              7.848101\n",
       "traveltime            7.088608\n",
       "studytime             1.772152\n",
       "failures              5.569620\n",
       "schoolsup             2.278481\n",
       "famsup                9.873418\n",
       "paid                 10.126582\n",
       "activities            3.544304\n",
       "nursery               4.050633\n",
       "studytime, granular   1.772152\n",
       "higher                5.063291\n",
       "internet              8.607595\n",
       "romantic              7.848101\n",
       "famrel                6.835443\n",
       "freetime              2.784810\n",
       "goout                 2.025316\n",
       "health                3.797468\n",
       "absences              3.037975\n",
       "score                 1.518987"
      ]
     },
     "execution_count": 724,
     "metadata": {},
     "output_type": "execute_result"
    }
   ],
   "source": [
    "# Смотрит пропуски в процентном соотношении\n",
    "pd.DataFrame(stud_math.isnull().mean() * 100)"
   ]
  },
  {
   "cell_type": "markdown",
   "id": "c554be1e",
   "metadata": {},
   "source": [
    "Пропусков не так много, как могло бы быть"
   ]
  },
  {
   "cell_type": "markdown",
   "id": "90376cff",
   "metadata": {},
   "source": [
    "# Посмотрим на распределение признака для числовых переменных, и если есть выбросы, устраним их."
   ]
  },
  {
   "cell_type": "code",
   "execution_count": 725,
   "id": "ad7842eb",
   "metadata": {},
   "outputs": [
    {
     "name": "stdout",
     "output_type": "stream",
     "text": [
      "age\n",
      "AxesSubplot(0.125,0.125;0.775x0.755)\n",
      "count    395.000000\n",
      "mean      16.696203\n",
      "std        1.276043\n",
      "min       15.000000\n",
      "25%       16.000000\n",
      "50%       17.000000\n",
      "75%       18.000000\n",
      "max       22.000000\n",
      "Name: age, dtype: float64\n"
     ]
    },
    {
     "data": {
      "image/png": "[encoded data removed]",
      "text/plain": [
       "<Figure size 432x288 with 1 Axes>"
      ]
     },
     "metadata": {
      "needs_background": "light"
     },
     "output_type": "display_data"
    }
   ],
   "source": [
    "hist_describe(stud_math, 'age')"
   ]
  },
  {
   "cell_type": "markdown",
   "id": "e0bf52c8",
   "metadata": {},
   "source": [
    "У данного признака распределение без аномалий, выбросов нет"
   ]
  },
  {
   "cell_type": "code",
   "execution_count": 726,
   "id": "ee94f69b",
   "metadata": {
    "scrolled": false
   },
   "outputs": [
    {
     "name": "stdout",
     "output_type": "stream",
     "text": [
      "Fedu\n",
      "AxesSubplot(0.125,0.125;0.775x0.755)\n",
      "count    371.000000\n",
      "mean       2.614555\n",
      "std        2.228732\n",
      "min        0.000000\n",
      "25%        2.000000\n",
      "50%        2.000000\n",
      "75%        3.000000\n",
      "max       40.000000\n",
      "Name: Fedu, dtype: float64\n"
     ]
    },
    {
     "data": {
      "image/png": "[encoded data removed]",
      "text/plain": [
       "<Figure size 432x288 with 1 Axes>"
      ]
     },
     "metadata": {
      "needs_background": "light"
     },
     "output_type": "display_data"
    }
   ],
   "source": [
    "hist_describe(stud_math, 'Fedu')"
   ]
  },
  {
   "cell_type": "markdown",
   "id": "98ecd640",
   "metadata": {},
   "source": [
    "Видим, что присутствует выброс в виде числа '40', будем считать что случайно дописали '0"
   ]
  },
  {
   "cell_type": "code",
   "execution_count": 727,
   "id": "08617323",
   "metadata": {},
   "outputs": [
    {
     "data": {
      "text/plain": [
       "array([ 4.,  1.,  2.,  3., 40., nan,  0.])"
      ]
     },
     "execution_count": 727,
     "metadata": {},
     "output_type": "execute_result"
    }
   ],
   "source": [
    "stud_math.Fedu.unique()"
   ]
  },
  {
   "cell_type": "code",
   "execution_count": 728,
   "id": "68a35e26",
   "metadata": {},
   "outputs": [],
   "source": [
    "# Уберем выброс\n",
    "stud_math.Fedu = stud_math.Fedu.apply(lambda x: x if x >= 0 and x <= 4 else x/10)"
   ]
  },
  {
   "cell_type": "code",
   "execution_count": 729,
   "id": "20c8cb18",
   "metadata": {},
   "outputs": [
    {
     "name": "stdout",
     "output_type": "stream",
     "text": [
      "Fedu\n",
      "AxesSubplot(0.125,0.125;0.775x0.755)\n",
      "count    371.000000\n",
      "mean       2.517520\n",
      "std        1.088808\n",
      "min        0.000000\n",
      "25%        2.000000\n",
      "50%        2.000000\n",
      "75%        3.000000\n",
      "max        4.000000\n",
      "Name: Fedu, dtype: float64\n"
     ]
    },
    {
     "data": {
      "image/png": "[encoded data removed]",
      "text/plain": [
       "<Figure size 432x288 with 1 Axes>"
      ]
     },
     "metadata": {
      "needs_background": "light"
     },
     "output_type": "display_data"
    }
   ],
   "source": [
    "hist_describe(stud_math, 'Fedu')"
   ]
  },
  {
   "cell_type": "code",
   "execution_count": 730,
   "id": "b47ef6ec",
   "metadata": {},
   "outputs": [
    {
     "name": "stdout",
     "output_type": "stream",
     "text": [
      "traveltime\n",
      "AxesSubplot(0.125,0.125;0.775x0.755)\n",
      "count    367.000000\n",
      "mean       1.438692\n",
      "std        0.694181\n",
      "min        1.000000\n",
      "25%        1.000000\n",
      "50%        1.000000\n",
      "75%        2.000000\n",
      "max        4.000000\n",
      "Name: traveltime, dtype: float64\n"
     ]
    },
    {
     "data": {
      "image/png": "[encoded data removed]",
      "text/plain": [
       "<Figure size 432x288 with 1 Axes>"
      ]
     },
     "metadata": {
      "needs_background": "light"
     },
     "output_type": "display_data"
    }
   ],
   "source": [
    "hist_describe(stud_math, 'traveltime')"
   ]
  },
  {
   "cell_type": "markdown",
   "id": "f5b6c058",
   "metadata": {},
   "source": [
    "У данного признака распределение без аномалий, выбросов нет"
   ]
  },
  {
   "cell_type": "code",
   "execution_count": 731,
   "id": "75d2541b",
   "metadata": {},
   "outputs": [
    {
     "name": "stdout",
     "output_type": "stream",
     "text": [
      "studytime\n",
      "AxesSubplot(0.125,0.125;0.775x0.755)\n",
      "count    388.000000\n",
      "mean       2.038660\n",
      "std        0.842078\n",
      "min        1.000000\n",
      "25%        1.000000\n",
      "50%        2.000000\n",
      "75%        2.000000\n",
      "max        4.000000\n",
      "Name: studytime, dtype: float64\n"
     ]
    },
    {
     "data": {
      "image/png": "[encoded data removed]",
      "text/plain": [
       "<Figure size 432x288 with 1 Axes>"
      ]
     },
     "metadata": {
      "needs_background": "light"
     },
     "output_type": "display_data"
    }
   ],
   "source": [
    "hist_describe(stud_math, 'studytime')"
   ]
  },
  {
   "cell_type": "markdown",
   "id": "5cffcd7b",
   "metadata": {},
   "source": [
    "У данного признака распределение без аномалий, выбросов нет"
   ]
  },
  {
   "cell_type": "code",
   "execution_count": 732,
   "id": "acc113a7",
   "metadata": {},
   "outputs": [
    {
     "name": "stdout",
     "output_type": "stream",
     "text": [
      "studytime, granular\n",
      "AxesSubplot(0.125,0.125;0.775x0.755)\n",
      "count    388.000000\n",
      "mean      -6.115979\n",
      "std        2.526235\n",
      "min      -12.000000\n",
      "25%       -6.000000\n",
      "50%       -6.000000\n",
      "75%       -3.000000\n",
      "max       -3.000000\n",
      "Name: studytime, granular, dtype: float64\n"
     ]
    },
    {
     "data": {
      "image/png": "[encoded data removed]",
      "text/plain": [
       "<Figure size 432x288 with 1 Axes>"
      ]
     },
     "metadata": {
      "needs_background": "light"
     },
     "output_type": "display_data"
    }
   ],
   "source": [
    "hist_describe(stud_math, 'studytime, granular')"
   ]
  },
  {
   "cell_type": "markdown",
   "id": "114ec21f",
   "metadata": {},
   "source": [
    "У данного признака распределение без аномалий, выбросов нет"
   ]
  },
  {
   "cell_type": "code",
   "execution_count": 733,
   "id": "ff87ebbf",
   "metadata": {},
   "outputs": [
    {
     "data": {
      "text/html": [
       "<div>\n",
       "<style scoped>\n",
       "    .dataframe tbody tr th:only-of-type {\n",
       "        vertical-align: middle;\n",
       "    }\n",
       "\n",
       "    .dataframe tbody tr th {\n",
       "        vertical-align: top;\n",
       "    }\n",
       "\n",
       "    .dataframe thead th {\n",
       "        text-align: right;\n",
       "    }\n",
       "</style>\n",
       "<table border=\"1\" class=\"dataframe\">\n",
       "  <thead>\n",
       "    <tr style=\"text-align: right;\">\n",
       "      <th></th>\n",
       "      <th>studytime, granular</th>\n",
       "      <th>studytime</th>\n",
       "    </tr>\n",
       "  </thead>\n",
       "  <tbody>\n",
       "    <tr>\n",
       "      <th>studytime, granular</th>\n",
       "      <td>1.0</td>\n",
       "      <td>-1.0</td>\n",
       "    </tr>\n",
       "    <tr>\n",
       "      <th>studytime</th>\n",
       "      <td>-1.0</td>\n",
       "      <td>1.0</td>\n",
       "    </tr>\n",
       "  </tbody>\n",
       "</table>\n",
       "</div>"
      ],
      "text/plain": [
       "                     studytime, granular  studytime\n",
       "studytime, granular                  1.0       -1.0\n",
       "studytime                           -1.0        1.0"
      ]
     },
     "execution_count": 733,
     "metadata": {},
     "output_type": "execute_result"
    }
   ],
   "source": [
    "stud_math[['studytime, granular', 'studytime']].corr()"
   ]
  },
  {
   "cell_type": "code",
   "execution_count": 734,
   "id": "2e7574e9",
   "metadata": {},
   "outputs": [
    {
     "data": {
      "text/plain": [
       "studytime, granular  studytime\n",
       "-12.0                4.0          60.0\n",
       "-9.0                 3.0          60.0\n",
       "-6.0                 2.0          55.0\n",
       "-3.0                 1.0          50.0\n",
       "Name: score, dtype: float64"
      ]
     },
     "execution_count": 734,
     "metadata": {},
     "output_type": "execute_result"
    }
   ],
   "source": [
    "stud_math.groupby(['studytime, granular', 'studytime']).score.median()"
   ]
  },
  {
   "cell_type": "markdown",
   "id": "1e67e24d",
   "metadata": {},
   "source": [
    "'studytime' и 'studytime, granular' скорелированны полностью отрицательно. \n",
    "'studytime, granular' - это 'studytime', домноженное на -3"
   ]
  },
  {
   "cell_type": "code",
   "execution_count": 735,
   "id": "25006166",
   "metadata": {},
   "outputs": [],
   "source": [
    "stud_math.drop(['studytime, granular'], inplace=True, axis=1)"
   ]
  },
  {
   "cell_type": "code",
   "execution_count": 736,
   "id": "23aef664",
   "metadata": {},
   "outputs": [
    {
     "name": "stdout",
     "output_type": "stream",
     "text": [
      "failures\n",
      "AxesSubplot(0.125,0.125;0.775x0.755)\n",
      "count    373.000000\n",
      "mean       0.337802\n",
      "std        0.743135\n",
      "min        0.000000\n",
      "25%        0.000000\n",
      "50%        0.000000\n",
      "75%        0.000000\n",
      "max        3.000000\n",
      "Name: failures, dtype: float64\n"
     ]
    },
    {
     "data": {
      "image/png": "[encoded data removed]",
      "text/plain": [
       "<Figure size 432x288 with 1 Axes>"
      ]
     },
     "metadata": {
      "needs_background": "light"
     },
     "output_type": "display_data"
    }
   ],
   "source": [
    "hist_describe(stud_math, 'failures')"
   ]
  },
  {
   "cell_type": "markdown",
   "id": "eab2438c",
   "metadata": {},
   "source": [
    "У данного признака распределение без аномалий, выбросов нет"
   ]
  },
  {
   "cell_type": "code",
   "execution_count": 737,
   "id": "344e9697",
   "metadata": {},
   "outputs": [
    {
     "name": "stdout",
     "output_type": "stream",
     "text": [
      "famrel\n",
      "AxesSubplot(0.125,0.125;0.775x0.755)\n",
      "count    368.000000\n",
      "mean       3.937500\n",
      "std        0.927277\n",
      "min       -1.000000\n",
      "25%        4.000000\n",
      "50%        4.000000\n",
      "75%        5.000000\n",
      "max        5.000000\n",
      "Name: famrel, dtype: float64\n"
     ]
    },
    {
     "data": {
      "image/png": "[encoded data removed]",
      "text/plain": [
       "<Figure size 432x288 with 1 Axes>"
      ]
     },
     "metadata": {
      "needs_background": "light"
     },
     "output_type": "display_data"
    }
   ],
   "source": [
    "hist_describe(stud_math, 'famrel')"
   ]
  },
  {
   "cell_type": "code",
   "execution_count": 738,
   "id": "9a0ff33e",
   "metadata": {},
   "outputs": [
    {
     "data": {
      "text/plain": [
       "array([ 4.,  5.,  3., nan, -1.,  2.,  1.])"
      ]
     },
     "execution_count": 738,
     "metadata": {},
     "output_type": "execute_result"
    }
   ],
   "source": [
    "stud_math.famrel.unique()"
   ]
  },
  {
   "cell_type": "code",
   "execution_count": 739,
   "id": "ab86c599",
   "metadata": {},
   "outputs": [],
   "source": [
    "# Уберем выброс\n",
    "stud_math.famrel = stud_math.famrel.apply(lambda x: x if x >= 1 and x <= 5 else x / -1)"
   ]
  },
  {
   "cell_type": "code",
   "execution_count": 740,
   "id": "e217e4e6",
   "metadata": {},
   "outputs": [
    {
     "data": {
      "text/plain": [
       "array([ 4.,  5.,  3., nan,  1.,  2.])"
      ]
     },
     "execution_count": 740,
     "metadata": {},
     "output_type": "execute_result"
    }
   ],
   "source": [
    "stud_math.famrel.unique()"
   ]
  },
  {
   "cell_type": "code",
   "execution_count": 741,
   "id": "09b29bc4",
   "metadata": {},
   "outputs": [
    {
     "name": "stdout",
     "output_type": "stream",
     "text": [
      "famrel\n",
      "AxesSubplot(0.125,0.125;0.775x0.755)\n",
      "count    368.000000\n",
      "mean       3.942935\n",
      "std        0.903824\n",
      "min        1.000000\n",
      "25%        4.000000\n",
      "50%        4.000000\n",
      "75%        5.000000\n",
      "max        5.000000\n",
      "Name: famrel, dtype: float64\n"
     ]
    },
    {
     "data": {
      "image/png": "[encoded data removed]",
      "text/plain": [
       "<Figure size 432x288 with 1 Axes>"
      ]
     },
     "metadata": {
      "needs_background": "light"
     },
     "output_type": "display_data"
    }
   ],
   "source": [
    "hist_describe(stud_math, 'famrel')"
   ]
  },
  {
   "cell_type": "code",
   "execution_count": 742,
   "id": "16df27a2",
   "metadata": {},
   "outputs": [
    {
     "name": "stdout",
     "output_type": "stream",
     "text": [
      "freetime\n",
      "AxesSubplot(0.125,0.125;0.775x0.755)\n",
      "count    384.000000\n",
      "mean       3.231771\n",
      "std        0.993940\n",
      "min        1.000000\n",
      "25%        3.000000\n",
      "50%        3.000000\n",
      "75%        4.000000\n",
      "max        5.000000\n",
      "Name: freetime, dtype: float64\n"
     ]
    },
    {
     "data": {
      "image/png": "[encoded data removed]",
      "text/plain": [
       "<Figure size 432x288 with 1 Axes>"
      ]
     },
     "metadata": {
      "needs_background": "light"
     },
     "output_type": "display_data"
    }
   ],
   "source": [
    "hist_describe(stud_math, 'freetime')"
   ]
  },
  {
   "cell_type": "markdown",
   "id": "e22fb439",
   "metadata": {},
   "source": [
    "У данного признака распределение без аномалий, выбросов нет"
   ]
  },
  {
   "cell_type": "code",
   "execution_count": 743,
   "id": "6e77d4b6",
   "metadata": {},
   "outputs": [
    {
     "name": "stdout",
     "output_type": "stream",
     "text": [
      "goout\n",
      "AxesSubplot(0.125,0.125;0.775x0.755)\n",
      "count    387.000000\n",
      "mean       3.105943\n",
      "std        1.115896\n",
      "min        1.000000\n",
      "25%        2.000000\n",
      "50%        3.000000\n",
      "75%        4.000000\n",
      "max        5.000000\n",
      "Name: goout, dtype: float64\n"
     ]
    },
    {
     "data": {
      "image/png": "[encoded data removed]",
      "text/plain": [
       "<Figure size 432x288 with 1 Axes>"
      ]
     },
     "metadata": {
      "needs_background": "light"
     },
     "output_type": "display_data"
    }
   ],
   "source": [
    "hist_describe(stud_math, 'goout')"
   ]
  },
  {
   "cell_type": "markdown",
   "id": "56df03f9",
   "metadata": {},
   "source": [
    "У данного признака распределение без аномалий, выбросов нет"
   ]
  },
  {
   "cell_type": "code",
   "execution_count": 744,
   "id": "b16cab39",
   "metadata": {},
   "outputs": [
    {
     "name": "stdout",
     "output_type": "stream",
     "text": [
      "health\n",
      "AxesSubplot(0.125,0.125;0.775x0.755)\n",
      "count    380.000000\n",
      "mean       3.531579\n",
      "std        1.396019\n",
      "min        1.000000\n",
      "25%        3.000000\n",
      "50%        4.000000\n",
      "75%        5.000000\n",
      "max        5.000000\n",
      "Name: health, dtype: float64\n"
     ]
    },
    {
     "data": {
      "image/png": "[encoded data removed]",
      "text/plain": [
       "<Figure size 432x288 with 1 Axes>"
      ]
     },
     "metadata": {
      "needs_background": "light"
     },
     "output_type": "display_data"
    }
   ],
   "source": [
    "hist_describe(stud_math, 'health')"
   ]
  },
  {
   "cell_type": "markdown",
   "id": "88af4d96",
   "metadata": {},
   "source": [
    "У данного признака распределение без аномалий, выбросов нет"
   ]
  },
  {
   "cell_type": "code",
   "execution_count": 745,
   "id": "2bf8f342",
   "metadata": {},
   "outputs": [
    {
     "name": "stdout",
     "output_type": "stream",
     "text": [
      "absences\n",
      "AxesSubplot(0.125,0.125;0.775x0.755)\n",
      "count    383.000000\n",
      "mean       7.279373\n",
      "std       23.465197\n",
      "min        0.000000\n",
      "25%        0.000000\n",
      "50%        4.000000\n",
      "75%        8.000000\n",
      "max      385.000000\n",
      "Name: absences, dtype: float64\n"
     ]
    },
    {
     "data": {
      "image/png": "[encoded data removed]",
      "text/plain": [
       "<Figure size 432x288 with 1 Axes>"
      ]
     },
     "metadata": {
      "needs_background": "light"
     },
     "output_type": "display_data"
    }
   ],
   "source": [
    "hist_describe(stud_math, 'absences')"
   ]
  },
  {
   "cell_type": "markdown",
   "id": "0c1b8edb",
   "metadata": {},
   "source": [
    "У некоторых учеников слишком много пропусков, уберем всё свыше 100"
   ]
  },
  {
   "cell_type": "code",
   "execution_count": 746,
   "id": "1a4f6a2a",
   "metadata": {},
   "outputs": [
    {
     "name": "stdout",
     "output_type": "stream",
     "text": [
      "absences: 25-й перцентиль: 0.0, 75-й перцентиль: 8.0 IQR: 8.0 Границы выбросов: [-12.0, 20.0].\n"
     ]
    }
   ],
   "source": [
    "emissions(stud_math, 'absences')"
   ]
  },
  {
   "cell_type": "code",
   "execution_count": 747,
   "id": "69fa6cfe",
   "metadata": {},
   "outputs": [],
   "source": [
    "stud_math.absences = stud_math.absences.apply(lambda x: x if x >= 0 and x <= 100 else None)"
   ]
  },
  {
   "cell_type": "code",
   "execution_count": 748,
   "id": "5290aacf",
   "metadata": {},
   "outputs": [
    {
     "name": "stdout",
     "output_type": "stream",
     "text": [
      "absences\n",
      "AxesSubplot(0.125,0.125;0.775x0.755)\n",
      "count    381.000000\n",
      "mean       5.750656\n",
      "std        8.088542\n",
      "min        0.000000\n",
      "25%        0.000000\n",
      "50%        4.000000\n",
      "75%        8.000000\n",
      "max       75.000000\n",
      "Name: absences, dtype: float64\n"
     ]
    },
    {
     "data": {
      "image/png": "[encoded data removed]",
      "text/plain": [
       "<Figure size 432x288 with 1 Axes>"
      ]
     },
     "metadata": {
      "needs_background": "light"
     },
     "output_type": "display_data"
    }
   ],
   "source": [
    "hist_describe(stud_math, 'absences')"
   ]
  },
  {
   "cell_type": "code",
   "execution_count": 749,
   "id": "fd99792c",
   "metadata": {},
   "outputs": [
    {
     "name": "stdout",
     "output_type": "stream",
     "text": [
      "score\n",
      "AxesSubplot(0.125,0.125;0.775x0.755)\n",
      "count    389.000000\n",
      "mean      52.262211\n",
      "std       22.919022\n",
      "min        0.000000\n",
      "25%       40.000000\n",
      "50%       55.000000\n",
      "75%       70.000000\n",
      "max      100.000000\n",
      "Name: score, dtype: float64\n"
     ]
    },
    {
     "data": {
      "image/png": "[encoded data removed]",
      "text/plain": [
       "<Figure size 432x288 with 1 Axes>"
      ]
     },
     "metadata": {
      "needs_background": "light"
     },
     "output_type": "display_data"
    }
   ],
   "source": [
    "hist_describe(stud_math, 'score')"
   ]
  },
  {
   "cell_type": "code",
   "execution_count": 750,
   "id": "2c39ba6e",
   "metadata": {},
   "outputs": [
    {
     "data": {
      "text/plain": [
       "array([ 30.,  50.,  75.,  55.,  95.,  45.,  60.,  70.,  80.,  25.,  40.,\n",
       "        85.,  90.,  65., 100.,  35.,   0.,  nan,  20.])"
      ]
     },
     "execution_count": 750,
     "metadata": {},
     "output_type": "execute_result"
    }
   ],
   "source": [
    "stud_math.score.unique()"
   ]
  },
  {
   "cell_type": "markdown",
   "id": "9f630a86",
   "metadata": {},
   "source": [
    "Получить 0 баллов маловероятно, так что будем рассматривать их как выброс"
   ]
  },
  {
   "cell_type": "code",
   "execution_count": 751,
   "id": "5cadf51e",
   "metadata": {},
   "outputs": [],
   "source": [
    "stud_math.score = stud_math.score.apply(lambda x: x if x >= 20 else None)"
   ]
  },
  {
   "cell_type": "code",
   "execution_count": 752,
   "id": "f34749b8",
   "metadata": {},
   "outputs": [
    {
     "name": "stdout",
     "output_type": "stream",
     "text": [
      "score\n",
      "AxesSubplot(0.125,0.125;0.775x0.755)\n",
      "count    352.000000\n",
      "mean      57.755682\n",
      "std       16.200928\n",
      "min       20.000000\n",
      "25%       45.000000\n",
      "50%       55.000000\n",
      "75%       70.000000\n",
      "max      100.000000\n",
      "Name: score, dtype: float64\n"
     ]
    },
    {
     "data": {
      "image/png": "[encoded data removed]",
      "text/plain": [
       "<Figure size 432x288 with 1 Axes>"
      ]
     },
     "metadata": {
      "needs_background": "light"
     },
     "output_type": "display_data"
    }
   ],
   "source": [
    "hist_describe(stud_math, 'score')"
   ]
  },
  {
   "cell_type": "markdown",
   "id": "4c477806",
   "metadata": {},
   "source": [
    "# Оценим количество уникальных значений для номинативных переменных"
   ]
  },
  {
   "cell_type": "code",
   "execution_count": 753,
   "id": "c0a42ac5",
   "metadata": {},
   "outputs": [
    {
     "name": "stdout",
     "output_type": "stream",
     "text": [
      "sex\n",
      "['F' 'M']\n",
      "Количество уникальных значений: 2\n",
      "F    208\n",
      "M    187\n",
      "Name: sex, dtype: int64\n"
     ]
    }
   ],
   "source": [
    "get_unique_and_value_counts(stud_math, 'sex')"
   ]
  },
  {
   "cell_type": "code",
   "execution_count": 754,
   "id": "b2eb7574",
   "metadata": {},
   "outputs": [
    {
     "name": "stdout",
     "output_type": "stream",
     "text": [
      "address\n",
      "['U' nan 'R']\n",
      "Количество уникальных значений: 2\n",
      "U    295\n",
      "R     83\n",
      "Name: address, dtype: int64\n"
     ]
    }
   ],
   "source": [
    "get_unique_and_value_counts(stud_math, 'address')"
   ]
  },
  {
   "cell_type": "code",
   "execution_count": 755,
   "id": "a376bea5",
   "metadata": {},
   "outputs": [
    {
     "name": "stdout",
     "output_type": "stream",
     "text": [
      "famsize\n",
      "[nan 'GT3' 'LE3']\n",
      "Количество уникальных значений: 2\n",
      "GT3    261\n",
      "LE3    107\n",
      "Name: famsize, dtype: int64\n"
     ]
    }
   ],
   "source": [
    "get_unique_and_value_counts(stud_math, 'famsize')"
   ]
  },
  {
   "cell_type": "code",
   "execution_count": 756,
   "id": "143d4ef9",
   "metadata": {},
   "outputs": [
    {
     "name": "stdout",
     "output_type": "stream",
     "text": [
      "Pstatus\n",
      "['A' nan 'T']\n",
      "Количество уникальных значений: 2\n",
      "T    314\n",
      "A     36\n",
      "Name: Pstatus, dtype: int64\n"
     ]
    }
   ],
   "source": [
    "get_unique_and_value_counts(stud_math, 'Pstatus')"
   ]
  },
  {
   "cell_type": "code",
   "execution_count": 757,
   "id": "29ea0e66",
   "metadata": {},
   "outputs": [
    {
     "name": "stdout",
     "output_type": "stream",
     "text": [
      "Mjob\n",
      "['at_home' 'health' 'other' 'services' 'teacher' nan]\n",
      "Количество уникальных значений: 5\n",
      "other       133\n",
      "services     98\n",
      "at_home      58\n",
      "teacher      55\n",
      "health       32\n",
      "Name: Mjob, dtype: int64\n"
     ]
    }
   ],
   "source": [
    "get_unique_and_value_counts(stud_math, 'Mjob')"
   ]
  },
  {
   "cell_type": "code",
   "execution_count": 758,
   "id": "03274e12",
   "metadata": {},
   "outputs": [
    {
     "name": "stdout",
     "output_type": "stream",
     "text": [
      "Fjob\n",
      "['teacher' 'other' nan 'health' 'services' 'at_home']\n",
      "Количество уникальных значений: 5\n",
      "other       197\n",
      "services    102\n",
      "teacher      29\n",
      "at_home      16\n",
      "health       15\n",
      "Name: Fjob, dtype: int64\n"
     ]
    }
   ],
   "source": [
    "get_unique_and_value_counts(stud_math, 'Fjob')"
   ]
  },
  {
   "cell_type": "code",
   "execution_count": 759,
   "id": "591e587c",
   "metadata": {},
   "outputs": [
    {
     "name": "stdout",
     "output_type": "stream",
     "text": [
      "reason\n",
      "['course' 'other' 'home' 'reputation' nan]\n",
      "Количество уникальных значений: 4\n",
      "course        137\n",
      "home          104\n",
      "reputation    103\n",
      "other          34\n",
      "Name: reason, dtype: int64\n"
     ]
    }
   ],
   "source": [
    "get_unique_and_value_counts(stud_math, 'reason')"
   ]
  },
  {
   "cell_type": "code",
   "execution_count": 760,
   "id": "4c97cec9",
   "metadata": {},
   "outputs": [
    {
     "name": "stdout",
     "output_type": "stream",
     "text": [
      "guardian\n",
      "['mother' 'father' 'other' nan]\n",
      "Количество уникальных значений: 3\n",
      "mother    250\n",
      "father     86\n",
      "other      28\n",
      "Name: guardian, dtype: int64\n"
     ]
    }
   ],
   "source": [
    "get_unique_and_value_counts(stud_math, 'guardian')"
   ]
  },
  {
   "cell_type": "code",
   "execution_count": 761,
   "id": "d47169d3",
   "metadata": {},
   "outputs": [
    {
     "name": "stdout",
     "output_type": "stream",
     "text": [
      "schoolsup\n",
      "['yes' 'no' nan]\n",
      "Количество уникальных значений: 2\n",
      "no     335\n",
      "yes     51\n",
      "Name: schoolsup, dtype: int64\n"
     ]
    }
   ],
   "source": [
    "get_unique_and_value_counts(stud_math, 'schoolsup')"
   ]
  },
  {
   "cell_type": "code",
   "execution_count": 762,
   "id": "7893a776",
   "metadata": {},
   "outputs": [
    {
     "name": "stdout",
     "output_type": "stream",
     "text": [
      "famsup\n",
      "['no' 'yes' nan]\n",
      "Количество уникальных значений: 2\n",
      "yes    219\n",
      "no     137\n",
      "Name: famsup, dtype: int64\n"
     ]
    }
   ],
   "source": [
    "get_unique_and_value_counts(stud_math, 'famsup')"
   ]
  },
  {
   "cell_type": "code",
   "execution_count": 763,
   "id": "4ecec4d7",
   "metadata": {},
   "outputs": [
    {
     "name": "stdout",
     "output_type": "stream",
     "text": [
      "paid\n",
      "['no' nan 'yes']\n",
      "Количество уникальных значений: 2\n",
      "no     200\n",
      "yes    155\n",
      "Name: paid, dtype: int64\n"
     ]
    }
   ],
   "source": [
    "get_unique_and_value_counts(stud_math, 'paid')"
   ]
  },
  {
   "cell_type": "code",
   "execution_count": 764,
   "id": "50c20ee4",
   "metadata": {},
   "outputs": [
    {
     "name": "stdout",
     "output_type": "stream",
     "text": [
      "activities\n",
      "['no' 'yes' nan]\n",
      "Количество уникальных значений: 2\n",
      "yes    195\n",
      "no     186\n",
      "Name: activities, dtype: int64\n"
     ]
    }
   ],
   "source": [
    "get_unique_and_value_counts(stud_math, 'activities')"
   ]
  },
  {
   "cell_type": "code",
   "execution_count": 765,
   "id": "f785d8a7",
   "metadata": {},
   "outputs": [
    {
     "name": "stdout",
     "output_type": "stream",
     "text": [
      "nursery\n",
      "['yes' 'no' nan]\n",
      "Количество уникальных значений: 2\n",
      "yes    300\n",
      "no      79\n",
      "Name: nursery, dtype: int64\n"
     ]
    }
   ],
   "source": [
    "get_unique_and_value_counts(stud_math, 'nursery')"
   ]
  },
  {
   "cell_type": "code",
   "execution_count": 766,
   "id": "cac85b4f",
   "metadata": {},
   "outputs": [
    {
     "name": "stdout",
     "output_type": "stream",
     "text": [
      "higher\n",
      "['yes' nan 'no']\n",
      "Количество уникальных значений: 2\n",
      "yes    356\n",
      "no      19\n",
      "Name: higher, dtype: int64\n"
     ]
    }
   ],
   "source": [
    "get_unique_and_value_counts(stud_math, 'higher')"
   ]
  },
  {
   "cell_type": "code",
   "execution_count": 767,
   "id": "0a0772c8",
   "metadata": {},
   "outputs": [
    {
     "name": "stdout",
     "output_type": "stream",
     "text": [
      "internet\n",
      "[nan 'yes' 'no']\n",
      "Количество уникальных значений: 2\n",
      "yes    305\n",
      "no      56\n",
      "Name: internet, dtype: int64\n"
     ]
    }
   ],
   "source": [
    "get_unique_and_value_counts(stud_math, 'internet')"
   ]
  },
  {
   "cell_type": "code",
   "execution_count": 768,
   "id": "8bd793cf",
   "metadata": {},
   "outputs": [
    {
     "name": "stdout",
     "output_type": "stream",
     "text": [
      "romantic\n",
      "['no' nan 'yes']\n",
      "Количество уникальных значений: 2\n",
      "no     240\n",
      "yes    124\n",
      "Name: romantic, dtype: int64\n"
     ]
    }
   ],
   "source": [
    "get_unique_and_value_counts(stud_math, 'romantic')"
   ]
  },
  {
   "cell_type": "markdown",
   "id": "8beaf4c2",
   "metadata": {},
   "source": [
    "# Проведём корреляционный анализ количественных переменных"
   ]
  },
  {
   "cell_type": "code",
   "execution_count": 769,
   "id": "769b967d",
   "metadata": {},
   "outputs": [
    {
     "data": {
      "text/html": [
       "<div>\n",
       "<style scoped>\n",
       "    .dataframe tbody tr th:only-of-type {\n",
       "        vertical-align: middle;\n",
       "    }\n",
       "\n",
       "    .dataframe tbody tr th {\n",
       "        vertical-align: top;\n",
       "    }\n",
       "\n",
       "    .dataframe thead th {\n",
       "        text-align: right;\n",
       "    }\n",
       "</style>\n",
       "<table border=\"1\" class=\"dataframe\">\n",
       "  <thead>\n",
       "    <tr style=\"text-align: right;\">\n",
       "      <th></th>\n",
       "      <th>age</th>\n",
       "      <th>absences</th>\n",
       "      <th>score</th>\n",
       "    </tr>\n",
       "  </thead>\n",
       "  <tbody>\n",
       "    <tr>\n",
       "      <th>age</th>\n",
       "      <td>1.000000</td>\n",
       "      <td>0.166773</td>\n",
       "      <td>-0.131542</td>\n",
       "    </tr>\n",
       "    <tr>\n",
       "      <th>absences</th>\n",
       "      <td>0.166773</td>\n",
       "      <td>1.000000</td>\n",
       "      <td>-0.214926</td>\n",
       "    </tr>\n",
       "    <tr>\n",
       "      <th>score</th>\n",
       "      <td>-0.131542</td>\n",
       "      <td>-0.214926</td>\n",
       "      <td>1.000000</td>\n",
       "    </tr>\n",
       "  </tbody>\n",
       "</table>\n",
       "</div>"
      ],
      "text/plain": [
       "               age  absences     score\n",
       "age       1.000000  0.166773 -0.131542\n",
       "absences  0.166773  1.000000 -0.214926\n",
       "score    -0.131542 -0.214926  1.000000"
      ]
     },
     "execution_count": 769,
     "metadata": {},
     "output_type": "execute_result"
    }
   ],
   "source": [
    "stud_math_corr = stud_math[['age', 'absences', 'score']]\n",
    "stud_math_corr.corr()"
   ]
  },
  {
   "cell_type": "markdown",
   "id": "0e3e8fa9",
   "metadata": {},
   "source": [
    "Между переменными score и age, absences отрицательная корреляция. Это говорит о том, что при увелицении возраста или количества пропусков падает балл за экзамен, между age и absences положительная, то есть при увеличении возраста уников растет количество пропусков"
   ]
  },
  {
   "cell_type": "code",
   "execution_count": 770,
   "id": "f1538c53",
   "metadata": {},
   "outputs": [
    {
     "data": {
      "text/plain": [
       "<AxesSubplot:>"
      ]
     },
     "execution_count": 770,
     "metadata": {},
     "output_type": "execute_result"
    },
    {
     "data": {
      "image/png": "[encoded data removed]",
      "text/plain": [
       "<Figure size 432x288 with 2 Axes>"
      ]
     },
     "metadata": {
      "needs_background": "light"
     },
     "output_type": "display_data"
    }
   ],
   "source": [
    "sns.heatmap(stud_math_corr.corr(), cmap='coolwarm')"
   ]
  },
  {
   "cell_type": "code",
   "execution_count": 771,
   "id": "7b19ddca",
   "metadata": {},
   "outputs": [
    {
     "data": {
      "text/plain": [
       "<seaborn.axisgrid.PairGrid at 0x249a53e3a90>"
      ]
     },
     "execution_count": 771,
     "metadata": {},
     "output_type": "execute_result"
    },
    {
     "data": {
      "image/png": "[encoded data removed]",
      "text/plain": [
       "<Figure size 540x540 with 12 Axes>"
      ]
     },
     "metadata": {
      "needs_background": "light"
     },
     "output_type": "display_data"
    }
   ],
   "source": [
    "sns.pairplot(stud_math_corr, kind='reg')"
   ]
  },
  {
   "cell_type": "markdown",
   "id": "7deedb7a",
   "metadata": {},
   "source": [
    "# Проанализируем номинативные переменные"
   ]
  },
  {
   "cell_type": "code",
   "execution_count": 772,
   "id": "e3cd83dd",
   "metadata": {},
   "outputs": [],
   "source": [
    "# Создадим отдельный DataFrame для оценки номинативных переменных\n",
    "stud_math_nom = stud_math.copy()\n",
    "stud_math_nom.drop(['age', 'absences', 'score'], inplace=True, axis=1)"
   ]
  },
  {
   "cell_type": "code",
   "execution_count": 773,
   "id": "824b720a",
   "metadata": {
    "scrolled": true
   },
   "outputs": [
    {
     "data": {
      "image/png": "[encoded data removed]",
      "text/plain": [
       "<Figure size 1008x288 with 1 Axes>"
      ]
     },
     "metadata": {
      "needs_background": "light"
     },
     "output_type": "display_data"
    },
    {
     "data": {
      "image/png": "[encoded data removed]",
      "text/plain": [
       "<Figure size 1008x288 with 1 Axes>"
      ]
     },
     "metadata": {
      "needs_background": "light"
     },
     "output_type": "display_data"
    },
    {
     "data": {
      "image/png": "[encoded data removed]",
      "text/plain": [
       "<Figure size 1008x288 with 1 Axes>"
      ]
     },
     "metadata": {
      "needs_background": "light"
     },
     "output_type": "display_data"
    },
    {
     "data": {
      "image/png": "[encoded data removed]",
      "text/plain": [
       "<Figure size 1008x288 with 1 Axes>"
      ]
     },
     "metadata": {
      "needs_background": "light"
     },
     "output_type": "display_data"
    },
    {
     "data": {
      "image/png": "[encoded data removed]",
      "text/plain": [
       "<Figure size 1008x288 with 1 Axes>"
      ]
     },
     "metadata": {
      "needs_background": "light"
     },
     "output_type": "display_data"
    },
    {
     "data": {
      "image/png": "[encoded data removed]",
      "text/plain": [
       "<Figure size 1008x288 with 1 Axes>"
      ]
     },
     "metadata": {
      "needs_background": "light"
     },
     "output_type": "display_data"
    },
    {
     "data": {
      "image/png": "[encoded data removed]",
      "text/plain": [
       "<Figure size 1008x288 with 1 Axes>"
      ]
     },
     "metadata": {
      "needs_background": "light"
     },
     "output_type": "display_data"
    },
    {
     "data": {
      "image/png": "[encoded data removed]",
      "text/plain": [
       "<Figure size 1008x288 with 1 Axes>"
      ]
     },
     "metadata": {
      "needs_background": "light"
     },
     "output_type": "display_data"
    },
    {
     "data": {
      "image/png": "[encoded data removed]",
      "text/plain": [
       "<Figure size 1008x288 with 1 Axes>"
      ]
     },
     "metadata": {
      "needs_background": "light"
     },
     "output_type": "display_data"
    },
    {
     "data": {
      "image/png": "[encoded data removed]",
      "text/plain": [
       "<Figure size 1008x288 with 1 Axes>"
      ]
     },
     "metadata": {
      "needs_background": "light"
     },
     "output_type": "display_data"
    },
    {
     "data": {
      "image/png": "[encoded data removed]",
      "text/plain": [
       "<Figure size 1008x288 with 1 Axes>"
      ]
     },
     "metadata": {
      "needs_background": "light"
     },
     "output_type": "display_data"
    },
    {
     "data": {
      "image/png": "[encoded data removed]",
      "text/plain": [
       "<Figure size 1008x288 with 1 Axes>"
      ]
     },
     "metadata": {
      "needs_background": "light"
     },
     "output_type": "display_data"
    },
    {
     "data": {
      "image/png": "[encoded data removed]",
      "text/plain": [
       "<Figure size 1008x288 with 1 Axes>"
      ]
     },
     "metadata": {
      "needs_background": "light"
     },
     "output_type": "display_data"
    },
    {
     "data": {
      "image/png": "[encoded data removed]",
      "text/plain": [
       "<Figure size 1008x288 with 1 Axes>"
      ]
     },
     "metadata": {
      "needs_background": "light"
     },
     "output_type": "display_data"
    },
    {
     "data": {
      "image/png": "[encoded data removed]",
      "text/plain": [
       "<Figure size 1008x288 with 1 Axes>"
      ]
     },
     "metadata": {
      "needs_background": "light"
     },
     "output_type": "display_data"
    },
    {
     "data": {
      "image/png": "[encoded data removed]",
      "text/plain": [
       "<Figure size 1008x288 with 1 Axes>"
      ]
     },
     "metadata": {
      "needs_background": "light"
     },
     "output_type": "display_data"
    },
    {
     "data": {
      "image/png": "[encoded data removed]",
      "text/plain": [
       "<Figure size 1008x288 with 1 Axes>"
      ]
     },
     "metadata": {
      "needs_background": "light"
     },
     "output_type": "display_data"
    },
    {
     "data": {
      "image/png": "[encoded data removed]",
      "text/plain": [
       "<Figure size 1008x288 with 1 Axes>"
      ]
     },
     "metadata": {
      "needs_background": "light"
     },
     "output_type": "display_data"
    },
    {
     "data": {
      "image/png": "[encoded data removed]",
      "text/plain": [
       "<Figure size 1008x288 with 1 Axes>"
      ]
     },
     "metadata": {
      "needs_background": "light"
     },
     "output_type": "display_data"
    },
    {
     "data": {
      "image/png": "[encoded data removed]",
      "text/plain": [
       "<Figure size 1008x288 with 1 Axes>"
      ]
     },
     "metadata": {
      "needs_background": "light"
     },
     "output_type": "display_data"
    },
    {
     "data": {
      "image/png": "[encoded data removed]",
      "text/plain": [
       "<Figure size 1008x288 with 1 Axes>"
      ]
     },
     "metadata": {
      "needs_background": "light"
     },
     "output_type": "display_data"
    },
    {
     "data": {
      "image/png": "[encoded data removed]",
      "text/plain": [
       "<Figure size 1008x288 with 1 Axes>"
      ]
     },
     "metadata": {
      "needs_background": "light"
     },
     "output_type": "display_data"
    },
    {
     "data": {
      "image/png": "[encoded data removed]",
      "text/plain": [
       "<Figure size 1008x288 with 1 Axes>"
      ]
     },
     "metadata": {
      "needs_background": "light"
     },
     "output_type": "display_data"
    },
    {
     "data": {
      "image/png": "[encoded data removed]",
      "text/plain": [
       "<Figure size 1008x288 with 1 Axes>"
      ]
     },
     "metadata": {
      "needs_background": "light"
     },
     "output_type": "display_data"
    },
    {
     "data": {
      "image/png": "[encoded data removed]",
      "text/plain": [
       "<Figure size 1008x288 with 1 Axes>"
      ]
     },
     "metadata": {
      "needs_background": "light"
     },
     "output_type": "display_data"
    },
    {
     "data": {
      "image/png": "[encoded data removed]",
      "text/plain": [
       "<Figure size 1008x288 with 1 Axes>"
      ]
     },
     "metadata": {
      "needs_background": "light"
     },
     "output_type": "display_data"
    }
   ],
   "source": [
    "for col in list(stud_math_nom.columns):\n",
    "    get_boxplot(col)"
   ]
  },
  {
   "cell_type": "code",
   "execution_count": 774,
   "id": "ac3dd10f",
   "metadata": {},
   "outputs": [
    {
     "name": "stdout",
     "output_type": "stream",
     "text": [
      "Найдены статистически значимые различия для колонки sex\n",
      "Найдены статистически значимые различия для колонки address\n",
      "Найдены статистически значимые различия для колонки Medu\n",
      "Найдены статистически значимые различия для колонки Fedu\n",
      "Найдены статистически значимые различия для колонки Mjob\n",
      "Найдены статистически значимые различия для колонки Fjob\n",
      "Найдены статистически значимые различия для колонки studytime\n",
      "Найдены статистически значимые различия для колонки failures\n",
      "Найдены статистически значимые различия для колонки schoolsup\n",
      "Найдены статистически значимые различия для колонки higher\n",
      "Найдены статистически значимые различия для колонки goout\n"
     ]
    }
   ],
   "source": [
    "# Найдем статистические различия\n",
    "for col in list(stud_math_nom.columns):\n",
    "    get_stat_dif(col)"
   ]
  },
  {
   "cell_type": "markdown",
   "id": "ef7b61ba",
   "metadata": {},
   "source": [
    "Оставим эти переменные в датасете"
   ]
  },
  {
   "cell_type": "code",
   "execution_count": 776,
   "id": "b2fec7a5",
   "metadata": {},
   "outputs": [
    {
     "data": {
      "text/html": [
       "<div>\n",
       "<style scoped>\n",
       "    .dataframe tbody tr th:only-of-type {\n",
       "        vertical-align: middle;\n",
       "    }\n",
       "\n",
       "    .dataframe tbody tr th {\n",
       "        vertical-align: top;\n",
       "    }\n",
       "\n",
       "    .dataframe thead th {\n",
       "        text-align: right;\n",
       "    }\n",
       "</style>\n",
       "<table border=\"1\" class=\"dataframe\">\n",
       "  <thead>\n",
       "    <tr style=\"text-align: right;\">\n",
       "      <th></th>\n",
       "      <th>age</th>\n",
       "      <th>absences</th>\n",
       "      <th>sex</th>\n",
       "      <th>address</th>\n",
       "      <th>Medu</th>\n",
       "      <th>Fedu</th>\n",
       "      <th>Mjob</th>\n",
       "      <th>Fjob</th>\n",
       "      <th>studytime</th>\n",
       "      <th>failures</th>\n",
       "      <th>schoolsup</th>\n",
       "      <th>higher</th>\n",
       "      <th>goout</th>\n",
       "    </tr>\n",
       "  </thead>\n",
       "  <tbody>\n",
       "    <tr>\n",
       "      <th>0</th>\n",
       "      <td>18</td>\n",
       "      <td>6.0</td>\n",
       "      <td>F</td>\n",
       "      <td>U</td>\n",
       "      <td>4.0</td>\n",
       "      <td>4.0</td>\n",
       "      <td>at_home</td>\n",
       "      <td>teacher</td>\n",
       "      <td>2.0</td>\n",
       "      <td>0.0</td>\n",
       "      <td>yes</td>\n",
       "      <td>yes</td>\n",
       "      <td>4.0</td>\n",
       "    </tr>\n",
       "    <tr>\n",
       "      <th>1</th>\n",
       "      <td>17</td>\n",
       "      <td>4.0</td>\n",
       "      <td>F</td>\n",
       "      <td>U</td>\n",
       "      <td>1.0</td>\n",
       "      <td>1.0</td>\n",
       "      <td>at_home</td>\n",
       "      <td>other</td>\n",
       "      <td>2.0</td>\n",
       "      <td>0.0</td>\n",
       "      <td>no</td>\n",
       "      <td>yes</td>\n",
       "      <td>3.0</td>\n",
       "    </tr>\n",
       "    <tr>\n",
       "      <th>2</th>\n",
       "      <td>15</td>\n",
       "      <td>10.0</td>\n",
       "      <td>F</td>\n",
       "      <td>U</td>\n",
       "      <td>1.0</td>\n",
       "      <td>1.0</td>\n",
       "      <td>at_home</td>\n",
       "      <td>other</td>\n",
       "      <td>2.0</td>\n",
       "      <td>3.0</td>\n",
       "      <td>yes</td>\n",
       "      <td>yes</td>\n",
       "      <td>2.0</td>\n",
       "    </tr>\n",
       "    <tr>\n",
       "      <th>3</th>\n",
       "      <td>15</td>\n",
       "      <td>2.0</td>\n",
       "      <td>F</td>\n",
       "      <td>U</td>\n",
       "      <td>4.0</td>\n",
       "      <td>2.0</td>\n",
       "      <td>health</td>\n",
       "      <td>NaN</td>\n",
       "      <td>3.0</td>\n",
       "      <td>0.0</td>\n",
       "      <td>no</td>\n",
       "      <td>yes</td>\n",
       "      <td>2.0</td>\n",
       "    </tr>\n",
       "    <tr>\n",
       "      <th>4</th>\n",
       "      <td>16</td>\n",
       "      <td>4.0</td>\n",
       "      <td>F</td>\n",
       "      <td>U</td>\n",
       "      <td>3.0</td>\n",
       "      <td>3.0</td>\n",
       "      <td>other</td>\n",
       "      <td>other</td>\n",
       "      <td>2.0</td>\n",
       "      <td>0.0</td>\n",
       "      <td>no</td>\n",
       "      <td>yes</td>\n",
       "      <td>2.0</td>\n",
       "    </tr>\n",
       "    <tr>\n",
       "      <th>...</th>\n",
       "      <td>...</td>\n",
       "      <td>...</td>\n",
       "      <td>...</td>\n",
       "      <td>...</td>\n",
       "      <td>...</td>\n",
       "      <td>...</td>\n",
       "      <td>...</td>\n",
       "      <td>...</td>\n",
       "      <td>...</td>\n",
       "      <td>...</td>\n",
       "      <td>...</td>\n",
       "      <td>...</td>\n",
       "      <td>...</td>\n",
       "    </tr>\n",
       "    <tr>\n",
       "      <th>390</th>\n",
       "      <td>20</td>\n",
       "      <td>NaN</td>\n",
       "      <td>M</td>\n",
       "      <td>U</td>\n",
       "      <td>2.0</td>\n",
       "      <td>2.0</td>\n",
       "      <td>services</td>\n",
       "      <td>services</td>\n",
       "      <td>2.0</td>\n",
       "      <td>2.0</td>\n",
       "      <td>no</td>\n",
       "      <td>yes</td>\n",
       "      <td>4.0</td>\n",
       "    </tr>\n",
       "    <tr>\n",
       "      <th>391</th>\n",
       "      <td>17</td>\n",
       "      <td>3.0</td>\n",
       "      <td>M</td>\n",
       "      <td>U</td>\n",
       "      <td>3.0</td>\n",
       "      <td>1.0</td>\n",
       "      <td>services</td>\n",
       "      <td>services</td>\n",
       "      <td>1.0</td>\n",
       "      <td>0.0</td>\n",
       "      <td>no</td>\n",
       "      <td>yes</td>\n",
       "      <td>5.0</td>\n",
       "    </tr>\n",
       "    <tr>\n",
       "      <th>392</th>\n",
       "      <td>21</td>\n",
       "      <td>3.0</td>\n",
       "      <td>M</td>\n",
       "      <td>R</td>\n",
       "      <td>1.0</td>\n",
       "      <td>1.0</td>\n",
       "      <td>other</td>\n",
       "      <td>other</td>\n",
       "      <td>1.0</td>\n",
       "      <td>3.0</td>\n",
       "      <td>NaN</td>\n",
       "      <td>NaN</td>\n",
       "      <td>3.0</td>\n",
       "    </tr>\n",
       "    <tr>\n",
       "      <th>393</th>\n",
       "      <td>18</td>\n",
       "      <td>0.0</td>\n",
       "      <td>M</td>\n",
       "      <td>R</td>\n",
       "      <td>3.0</td>\n",
       "      <td>2.0</td>\n",
       "      <td>services</td>\n",
       "      <td>other</td>\n",
       "      <td>1.0</td>\n",
       "      <td>0.0</td>\n",
       "      <td>no</td>\n",
       "      <td>yes</td>\n",
       "      <td>1.0</td>\n",
       "    </tr>\n",
       "    <tr>\n",
       "      <th>394</th>\n",
       "      <td>19</td>\n",
       "      <td>5.0</td>\n",
       "      <td>M</td>\n",
       "      <td>U</td>\n",
       "      <td>1.0</td>\n",
       "      <td>1.0</td>\n",
       "      <td>other</td>\n",
       "      <td>at_home</td>\n",
       "      <td>1.0</td>\n",
       "      <td>0.0</td>\n",
       "      <td>NaN</td>\n",
       "      <td>yes</td>\n",
       "      <td>3.0</td>\n",
       "    </tr>\n",
       "  </tbody>\n",
       "</table>\n",
       "<p>395 rows × 13 columns</p>\n",
       "</div>"
      ],
      "text/plain": [
       "     age  absences sex address  Medu  Fedu      Mjob      Fjob  studytime  \\\n",
       "0     18       6.0   F       U   4.0   4.0   at_home   teacher        2.0   \n",
       "1     17       4.0   F       U   1.0   1.0   at_home     other        2.0   \n",
       "2     15      10.0   F       U   1.0   1.0   at_home     other        2.0   \n",
       "3     15       2.0   F       U   4.0   2.0    health       NaN        3.0   \n",
       "4     16       4.0   F       U   3.0   3.0     other     other        2.0   \n",
       "..   ...       ...  ..     ...   ...   ...       ...       ...        ...   \n",
       "390   20       NaN   M       U   2.0   2.0  services  services        2.0   \n",
       "391   17       3.0   M       U   3.0   1.0  services  services        1.0   \n",
       "392   21       3.0   M       R   1.0   1.0     other     other        1.0   \n",
       "393   18       0.0   M       R   3.0   2.0  services     other        1.0   \n",
       "394   19       5.0   M       U   1.0   1.0     other   at_home        1.0   \n",
       "\n",
       "     failures schoolsup higher  goout  \n",
       "0         0.0       yes    yes    4.0  \n",
       "1         0.0        no    yes    3.0  \n",
       "2         3.0       yes    yes    2.0  \n",
       "3         0.0        no    yes    2.0  \n",
       "4         0.0        no    yes    2.0  \n",
       "..        ...       ...    ...    ...  \n",
       "390       2.0        no    yes    4.0  \n",
       "391       0.0        no    yes    5.0  \n",
       "392       3.0       NaN    NaN    3.0  \n",
       "393       0.0        no    yes    1.0  \n",
       "394       0.0       NaN    yes    3.0  \n",
       "\n",
       "[395 rows x 13 columns]"
      ]
     },
     "execution_count": 776,
     "metadata": {},
     "output_type": "execute_result"
    }
   ],
   "source": [
    "stud_math_model = stud_math.loc[:, ['age', 'absences', 'sex', 'address', 'Medu', 'Fedu',\n",
    "                                    'Mjob', 'Fjob', 'studytime', 'failures', 'schoolsup', 'higher', 'goout']]\n",
    "stud_math_model"
   ]
  },
  {
   "cell_type": "markdown",
   "id": "5511cda5",
   "metadata": {},
   "source": [
    "# Выводы"
   ]
  },
  {
   "cell_type": "markdown",
   "id": "2f210a8b",
   "metadata": {},
   "source": [
    "В данных немного пустых значений, выбросы присутствуют только в 4 столбцах(некоторые могут быть просто опечаткой), что может говорить что данные относительно чистые"
   ]
  },
  {
   "cell_type": "code",
   "execution_count": null,
   "id": "f533291d",
   "metadata": {},
   "outputs": [],
   "source": []
  }
 ],
 "metadata": {
  "kernelspec": {
   "display_name": "Python 3",
   "language": "python",
   "name": "python3"
  },
  "language_info": {
   "codemirror_mode": {
    "name": "ipython",
    "version": 3
   },
   "file_extension": ".py",
   "mimetype": "text/x-python",
   "name": "python",
   "nbconvert_exporter": "python",
   "pygments_lexer": "ipython3",
   "version": "3.8.8"
  }
 },
 "nbformat": 4,
 "nbformat_minor": 5
}
